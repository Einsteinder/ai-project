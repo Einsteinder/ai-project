{
 "cells": [
  {
   "cell_type": "code",
   "execution_count": null,
   "metadata": {
    "collapsed": false
   },
   "outputs": [],
   "source": [
    "%load_ext autoreload\n",
    "%autoreload 2\n",
    "import numpy as np\n",
    "import pandas as pd \n",
    "import pickle \n",
    "\n",
    "import data_utils\n",
    "import sys\n",
    "\n",
    "import pre_process"
   ]
  },
  {
   "cell_type": "code",
   "execution_count": null,
   "metadata": {
    "collapsed": true
   },
   "outputs": [],
   "source": [
    "pandas_readable_data = '/data2/data/zebrahim/AI/lendingClub-CS541/pandas_readable.csv'"
   ]
  },
  {
   "cell_type": "code",
   "execution_count": null,
   "metadata": {
    "collapsed": false
   },
   "outputs": [],
   "source": [
    "data_frame = pd.read_csv(pandas_readable_data)"
   ]
  },
  {
   "cell_type": "code",
   "execution_count": null,
   "metadata": {
    "collapsed": false
   },
   "outputs": [],
   "source": [
    "np.unique(np.asarray(data_frame.dtypes))"
   ]
  },
  {
   "cell_type": "code",
   "execution_count": null,
   "metadata": {
    "collapsed": false
   },
   "outputs": [],
   "source": [
    "X_str_idx = []\n",
    "X_num_idx = []\n",
    "for i in range(len(data_frame.columns[:-1])):\n",
    "    if data_frame.dtypes[i] == 'O':\n",
    "        X_str_idx.append(i)\n",
    "    else:\n",
    "        X_num_idx.append(i) \n",
    "        "
   ]
  },
  {
   "cell_type": "code",
   "execution_count": null,
   "metadata": {
    "collapsed": true
   },
   "outputs": [],
   "source": [
    "y = np.asarray(data_frame.iloc[:,-1]).astype('S')"
   ]
  },
  {
   "cell_type": "code",
   "execution_count": null,
   "metadata": {
    "collapsed": false
   },
   "outputs": [],
   "source": [
    "X_str = np.asarray(data_frame.iloc[:,X_str_idx]).astype('S')\n",
    "X_num = np.asarray(data_frame.iloc[:,X_num_idx]).astype('float32')\n",
    "\n",
    "X_str_idx = np.asarray(X_str_idx)\n",
    "X_num_idx = np.asarray(X_num_idx)"
   ]
  },
  {
   "cell_type": "code",
   "execution_count": null,
   "metadata": {
    "collapsed": false
   },
   "outputs": [],
   "source": [
    "y.shape, X_str.shape, X_num.shape"
   ]
  },
  {
   "cell_type": "code",
   "execution_count": null,
   "metadata": {
    "collapsed": true
   },
   "outputs": [],
   "source": [
    "# Set the float format\n",
    "float_formater = lambda x: \"%.2f\" % x\n",
    "np.set_printoptions(formatter = {'float_kind' : float_formater})"
   ]
  },
  {
   "cell_type": "code",
   "execution_count": null,
   "metadata": {
    "collapsed": false
   },
   "outputs": [],
   "source": [
    "X_str[:, 0:20]"
   ]
  },
  {
   "cell_type": "code",
   "execution_count": null,
   "metadata": {
    "collapsed": false,
    "scrolled": false
   },
   "outputs": [],
   "source": [
    "data_frame"
   ]
  },
  {
   "cell_type": "markdown",
   "metadata": {},
   "source": [
    "# data Preprocessing\n",
    "## Step1"
   ]
  },
  {
   "cell_type": "code",
   "execution_count": null,
   "metadata": {
    "collapsed": false
   },
   "outputs": [],
   "source": [
    "#making a zeror matrix and will put one if a data for the specific cell is unknown\n",
    "Xbinary_str = np.zeros(X_str.shape)\n",
    "Xbinary_num = np.zeros(X_num.shape)\n",
    "\n",
    "#including tuples (i,j) which are cells with unknown info\n",
    "null_idx_Xbinary_str= []\n",
    "null_idx_Xbinary_num= []\n"
   ]
  },
  {
   "cell_type": "markdown",
   "metadata": {},
   "source": [
    "## Dealing with string columns\n",
    "We have figured out that only three columns among string columns have a problem. They are 11,21,59"
   ]
  },
  {
   "cell_type": "code",
   "execution_count": null,
   "metadata": {
    "collapsed": false
   },
   "outputs": [],
   "source": [
    "#column 11\n",
    "corspnd_idx = np.where(X_str_idx == 11)[0][0]\n",
    "null_idx_Xbinary_str += [(i,corspnd_idx) for i in np.where(X_str[:,corspnd_idx] == 'n/a')[0]]"
   ]
  },
  {
   "cell_type": "code",
   "execution_count": null,
   "metadata": {
    "collapsed": false
   },
   "outputs": [],
   "source": [
    "#column 21\n",
    "corspnd_idx = np.where(X_str_idx == 21)[0][0]\n",
    "null_idx_Xbinary_str += [(i,corspnd_idx) for i in np.where(X_str[:,corspnd_idx] == 'nan')[0]]"
   ]
  },
  {
   "cell_type": "code",
   "execution_count": null,
   "metadata": {
    "collapsed": true
   },
   "outputs": [],
   "source": [
    "#column 59\n",
    "corspnd_idx = np.where(X_str_idx == 59)[0][0]\n",
    "null_idx_Xbinary_str += [(i,corspnd_idx) for i in np.where(X_str[:,corspnd_idx] == 'nan')[0]]"
   ]
  },
  {
   "cell_type": "markdown",
   "metadata": {},
   "source": [
    "Dealing with integer, float columns"
   ]
  },
  {
   "cell_type": "code",
   "execution_count": null,
   "metadata": {
    "collapsed": true
   },
   "outputs": [],
   "source": [
    "#rows,cols = np.where(np.isnan(X_num))\n",
    "#cnt = np.isnan(X_num).sum(axis=0)\n",
    "#cols_big = np.where(cnt>1000)[0]\n",
    "#rows_remain = np.unique([r for r, c in zip(rows, cols) if c not in cols_big])\n",
    "#rows_remain.shape"
   ]
  },
  {
   "cell_type": "code",
   "execution_count": null,
   "metadata": {
    "collapsed": false
   },
   "outputs": [],
   "source": [
    "for i in X_num_idx:\n",
    "    corrspnd_idx = np.where(X_num_idx==i)[0][0]\n",
    "    tmp_str_col = np.asarray(X_num[:,corrspnd_idx]).astype('S')\n",
    "    nan_idx = np.where(tmp_str_col == 'nan')[0]\n",
    "    \n",
    "    if nan_idx.shape[0]>0 :\n",
    "        null_idx_Xbinary_num += [(j,corrspnd_idx) for j in nan_idx]"
   ]
  },
  {
   "cell_type": "code",
   "execution_count": null,
   "metadata": {
    "collapsed": false
   },
   "outputs": [],
   "source": [
    "col_idx_num = np.asarray(null_idx_Xbinary_num)[:,1]\n",
    "row_idx_num = np.asarray(null_idx_Xbinary_num)[:,0]\n",
    "\n",
    "col_idx_str = np.asarray(null_idx_Xbinary_str)[:,1]\n",
    "row_idx_str = np.asarray(null_idx_Xbinary_str)[:,0]"
   ]
  },
  {
   "cell_type": "code",
   "execution_count": null,
   "metadata": {
    "collapsed": true
   },
   "outputs": [],
   "source": [
    "Xbinary_str[row_idx_str, col_idx_str] = 1\n",
    "Xbinary_num[row_idx_num, col_idx_num] = 1"
   ]
  },
  {
   "cell_type": "markdown",
   "metadata": {},
   "source": [
    "## deciding which columns and rows should be removed\n",
    "Finding which columns should be removed"
   ]
  },
  {
   "cell_type": "code",
   "execution_count": null,
   "metadata": {
    "collapsed": false
   },
   "outputs": [],
   "source": [
    "sum_Xnum_col = Xbinary_num.sum(axis=0) #[Xbinary_num[:,i].sum() for i in range(len(X_num_idx))]\n",
    "sum_Xstr_col = Xbinary_str.sum(axis=0) #[Xbinary_str[:,i].sum() for i in range(len(X_str_idx))]"
   ]
  },
  {
   "cell_type": "code",
   "execution_count": null,
   "metadata": {
    "collapsed": false
   },
   "outputs": [],
   "source": [
    "#if a column has more than 1K unknown cell, it will be removed\n",
    "str_col_removal_idx = []    #idx in the whole dataset\n",
    "str_col_removal_idx_binary = []\n",
    "for i in range(len(sum_Xstr_col)):\n",
    "    if sum_Xstr_col[i]>1000:\n",
    "        str_col_removal_idx.append(X_str_idx[i])\n",
    "        str_col_removal_idx_binary.append(i)\n",
    "        \n",
    "num_col_removal_idx = []\n",
    "num_col_removal_idx_binary = []\n",
    "for i in range(len(sum_Xnum_col)):\n",
    "    if sum_Xnum_col[i]>1000:\n",
    "        num_col_removal_idx.append(X_num_idx[i])\n",
    "        num_col_removal_idx_binary.append(i)\n"
   ]
  },
  {
   "cell_type": "code",
   "execution_count": null,
   "metadata": {
    "collapsed": true
   },
   "outputs": [],
   "source": [
    "Xbinary_str = np.delete(Xbinary_str,str_col_removal_idx_binary,axis=1)\n",
    "Xbinary_num = np.delete(Xbinary_num,num_col_removal_idx_binary,axis=1)"
   ]
  },
  {
   "cell_type": "markdown",
   "metadata": {},
   "source": [
    "Finding which rows should be removed"
   ]
  },
  {
   "cell_type": "code",
   "execution_count": null,
   "metadata": {
    "collapsed": false
   },
   "outputs": [],
   "source": [
    "sum_Xstr_row = [Xbinary_str[i,:].sum() for i in range(Xbinary_str.shape[0])]\n",
    "sum_Xnum_row = [Xbinary_num[i,:].sum() for i in range(Xbinary_num.shape[0])]"
   ]
  },
  {
   "cell_type": "code",
   "execution_count": null,
   "metadata": {
    "collapsed": false
   },
   "outputs": [],
   "source": [
    "row_removal_idx = []\n",
    "for i in range(len(sum_Xstr_row)):\n",
    "    if sum_Xstr_row[i]>0:\n",
    "        row_removal_idx.append(i)\n",
    "        \n",
    "for i in range(len(sum_Xnum_row)):     \n",
    "    if sum_Xnum_row[i]>0:\n",
    "        row_removal_idx.append(i)\n",
    "        "
   ]
  },
  {
   "cell_type": "markdown",
   "metadata": {},
   "source": [
    "removing rows and columns"
   ]
  },
  {
   "cell_type": "code",
   "execution_count": null,
   "metadata": {
    "collapsed": true
   },
   "outputs": [],
   "source": [
    "#cols_keep = np.asarray(list(set(range(X_num.shape[1]))-set(num_col_removal_idx)))\n",
    "#cols_keep.shape[0] - X_num.shape[1]\n",
    "#num_col_removal_idx"
   ]
  },
  {
   "cell_type": "code",
   "execution_count": null,
   "metadata": {
    "collapsed": false
   },
   "outputs": [],
   "source": [
    "col_remove = [5,9,10,11,15,17,18,19,20,21,22,23,37,47,49,50,115]  # index of column needs to remove\n",
    "for i in col_remove:\n",
    "    loc = np.where(i == X_str_idx)[0][0]\n",
    "    if loc not in str_col_removal_idx_binary:\n",
    "        str_col_removal_idx_binary.append(loc)\n",
    "        \n",
    "    if i not in str_col_removal_idx:\n",
    "        str_col_removal_idx.append(i)\n"
   ]
  },
  {
   "cell_type": "code",
   "execution_count": null,
   "metadata": {
    "collapsed": true
   },
   "outputs": [],
   "source": [
    "X_str = np.delete(X_str, str_col_removal_idx_binary, axis=1)\n",
    "X_num = np.delete(X_num, num_col_removal_idx_binary, axis=1)\n",
    "\n",
    "X_str = np.delete(X_str, row_removal_idx, axis=0)\n",
    "X_num = np.delete(X_num, row_removal_idx, axis=0)\n",
    "\n",
    "y = np.delete(y, np.asarray(row_removal_idx), axis=0)"
   ]
  },
  {
   "cell_type": "code",
   "execution_count": null,
   "metadata": {
    "collapsed": false
   },
   "outputs": [],
   "source": [
    "X_str_idx = [i for i in X_str_idx if i not in str_col_removal_idx]\n"
   ]
  },
  {
   "cell_type": "markdown",
   "metadata": {
    "collapsed": false
   },
   "source": [
    "## Step2"
   ]
  },
  {
   "cell_type": "code",
   "execution_count": null,
   "metadata": {
    "collapsed": false
   },
   "outputs": [],
   "source": [
    "from sklearn.preprocessing import LabelEncoder, OneHotEncoder, MinMaxScaler"
   ]
  },
  {
   "cell_type": "markdown",
   "metadata": {},
   "source": [
    "scaling all intege/float columns between (-1,1)"
   ]
  },
  {
   "cell_type": "code",
   "execution_count": null,
   "metadata": {
    "collapsed": false
   },
   "outputs": [],
   "source": [
    "scaler = MinMaxScaler()\n",
    "for i in range(X_num.shape[1]):\n",
    "    X_num[:,i] = scaler.fit_transform(X_num[:,i].reshape([-1,1])).flatten().astype('float64')"
   ]
  },
  {
   "cell_type": "markdown",
   "metadata": {},
   "source": [
    "Encoding all columns included string"
   ]
  },
  {
   "cell_type": "code",
   "execution_count": null,
   "metadata": {
    "collapsed": false
   },
   "outputs": [],
   "source": [
    "#column 26 in origin data, or 4 in X_str = 'earliest_cr_line'\n",
    "temp = np.asarray(data_frame.iloc[:,26]).astype('datetime64').astype('float64')\n",
    "temp = np.delete(temp, row_removal_idx, axis = 0 )\n",
    "X_str[:,4] =  scaler.fit_transform(temp.reshape([-1,1])).flatten().astype('float64')\n"
   ]
  },
  {
   "cell_type": "code",
   "execution_count": null,
   "metadata": {
    "collapsed": false
   },
   "outputs": [],
   "source": [
    "labelencoder_X = LabelEncoder()\n",
    "for i in range(X_str.shape[1]):\n",
    "    if i != 4:\n",
    "        X_str[:,i] = labelencoder_X.fit_transform(X_str[:,i])"
   ]
  },
  {
   "cell_type": "code",
   "execution_count": null,
   "metadata": {
    "collapsed": false
   },
   "outputs": [],
   "source": [
    "print X_str[:,0], np.unique(X_str[:,0])\n",
    "print X_str[:,1], np.unique(X_str[:,1])\n",
    "print X_str[:,2], np.unique(X_str[:,2])\n",
    "print X_str[:,3], np.unique(X_str[:,3])\n",
    "#print X_str[:,4], np.unique(X_str[:,4])\n",
    "print X_str[:,5], np.unique(X_str[:,5])\n",
    "print X_str[:,6], np.unique(X_str[:,6])\n"
   ]
  },
  {
   "cell_type": "code",
   "execution_count": null,
   "metadata": {
    "collapsed": false
   },
   "outputs": [],
   "source": [
    "X_str.shape"
   ]
  },
  {
   "cell_type": "code",
   "execution_count": null,
   "metadata": {
    "collapsed": false
   },
   "outputs": [],
   "source": [
    "onehotencoder = OneHotEncoder(categorical_features=[0,1,2,3,5,6])\n",
    "X_str = onehotencoder.fit_transform(X_str).toarray()"
   ]
  },
  {
   "cell_type": "code",
   "execution_count": null,
   "metadata": {
    "collapsed": true
   },
   "outputs": [],
   "source": [
    "X = np.concatenate((X_str, X_num), axis=1)"
   ]
  },
  {
   "cell_type": "code",
   "execution_count": null,
   "metadata": {
    "collapsed": true
   },
   "outputs": [],
   "source": [
    "data_split = np.asarray(data_frame.iloc[:,115]).astype('S')"
   ]
  },
  {
   "cell_type": "code",
   "execution_count": null,
   "metadata": {
    "collapsed": false
   },
   "outputs": [],
   "source": [
    "data_split = np.delete(data_split, row_removal_idx, axis =0 )"
   ]
  },
  {
   "cell_type": "code",
   "execution_count": null,
   "metadata": {
    "collapsed": false
   },
   "outputs": [],
   "source": [
    "data_split.shape"
   ]
  },
  {
   "cell_type": "code",
   "execution_count": null,
   "metadata": {
    "collapsed": false
   },
   "outputs": [],
   "source": [
    "y_ = np.zeros(y.shape)\n",
    "pos_idx = np.where(y == 'good')[0]\n",
    "y_[pos_idx] = 1"
   ]
  },
  {
   "cell_type": "code",
   "execution_count": null,
   "metadata": {
    "collapsed": true
   },
   "outputs": [],
   "source": [
    "data = {}\n",
    "data['X'] = X\n",
    "data['y'] = y_\n",
    "data['split_info'] = data_split"
   ]
  },
  {
   "cell_type": "code",
   "execution_count": null,
   "metadata": {
    "collapsed": false
   },
   "outputs": [],
   "source": [
    "import pickle\n",
    "with open ('data.p', 'w') as fout:\n",
    "    pickle.dump(data, fout)"
   ]
  },
  {
   "cell_type": "code",
   "execution_count": null,
   "metadata": {
    "collapsed": true
   },
   "outputs": [],
   "source": []
  }
 ],
 "metadata": {
  "anaconda-cloud": {},
  "kernelspec": {
   "display_name": "Python [default]",
   "language": "python",
   "name": "python2"
  },
  "language_info": {
   "codemirror_mode": {
    "name": "ipython",
    "version": 2
   },
   "file_extension": ".py",
   "mimetype": "text/x-python",
   "name": "python",
   "nbconvert_exporter": "python",
   "pygments_lexer": "ipython2",
   "version": "2.7.12"
  }
 },
 "nbformat": 4,
 "nbformat_minor": 1
}
